{
 "cells": [
  {
   "cell_type": "code",
   "execution_count": 2,
   "id": "2baa51c9",
   "metadata": {},
   "outputs": [
    {
     "name": "stderr",
     "output_type": "stream",
     "text": [
      "/mnt/nas4/weiwei/.pyenv/versions/earthquake/lib/python3.8/site-packages/pkg_resources/__init__.py:116: PkgResourcesDeprecationWarning: latest is an invalid version and will not be supported in a future release\n",
      "  warnings.warn(\n",
      "/mnt/nas4/weiwei/.pyenv/versions/earthquake/lib/python3.8/site-packages/pkg_resources/__init__.py:116: PkgResourcesDeprecationWarning: latest is an invalid version and will not be supported in a future release\n",
      "  warnings.warn(\n"
     ]
    }
   ],
   "source": [
    "import numpy as np\n",
    "import pandas as pd\n",
    "import math\n",
    "import torch\n",
    "import matplotlib.pyplot as plt\n",
    "from tqdm import tqdm\n",
    "from model import *\n",
    "from optimizer import *\n",
    "from utils import *"
   ]
  },
  {
   "cell_type": "code",
   "execution_count": 83,
   "id": "3cc8920c",
   "metadata": {},
   "outputs": [],
   "source": [
    "def evaluation(pred, threshold_prob, threshold_trigger, threshold_type):\n",
    "    # pred: 模型預測結果, (batch_size, wave_length)\n",
    "    \n",
    "    # 存每個測站是否 pick 到的結果 & pick 到的時間點\n",
    "    pred_isTrigger = []\n",
    "    pred_trigger_sample = []\n",
    "    \n",
    "    for i in range(pred.shape[0]):\n",
    "        isTrigger = False\n",
    "        \n",
    "        if threshold_type == 'avg':\n",
    "            a = pd.Series(pred[i])    \n",
    "            win_avg = a.rolling(window=threshold_trigger).mean().to_numpy()\n",
    "\n",
    "            c = np.where(win_avg >= threshold_prob, 1, 0)\n",
    "\n",
    "            pred_trigger = 0\n",
    "            if c.any():\n",
    "                tri = np.where(c==1)\n",
    "                pred_trigger = tri[0][0]-threshold_trigger+1\n",
    "                isTrigger = True\n",
    "\n",
    "        elif threshold_type == 'continue':\n",
    "            pred = np.where(pred[i] >= threshold_prob, 1, 0)\n",
    "           \n",
    "            a = pd.Series(pred)    \n",
    "            data = a.groupby(a.eq(0).cumsum()).cumsum().tolist()\n",
    "          \n",
    "            if threshold_trigger in data:\n",
    "                pred_trigger = data.index(threshold_trigger)-threshold_trigger+1\n",
    "                isTrigger = True\n",
    "            else:\n",
    "                pred_trigger = 0\n",
    "\n",
    "        pred_isTrigger.append(isTrigger)\n",
    "        pred_trigger_sample.append(pred_trigger)\n",
    "        \n",
    "    return pred_isTrigger, pred_trigger_sample"
   ]
  },
  {
   "cell_type": "code",
   "execution_count": 107,
   "id": "8581887e",
   "metadata": {},
   "outputs": [],
   "source": [
    "def z_score_standardize(data):\n",
    "    new_wave = torch.empty((data.shape))\n",
    "\n",
    "    new_wave = data - torch.mean(data, dim=1)[:, None, :]\n",
    "    new_wave /= torch.std(data, dim=1)[:, None, :]\n",
    "    \n",
    "    if torch.any(torch.isinf(new_wave)):\n",
    "        new_wave[torch.isinf(new_wave)] = 0\n",
    "\n",
    "    if torch.any(torch.isnan(new_wave)):\n",
    "        new_wave[torch.isnan(new_wave)] = 0\n",
    "        \n",
    "    return new_wave"
   ]
  },
  {
   "cell_type": "code",
   "execution_count": 104,
   "id": "3413ee20",
   "metadata": {},
   "outputs": [],
   "source": [
    "def predict(wave, model, device, threshold_prob, threshold_trigger, threshold_type):\n",
    "    # zscore normalization, wave=(batch_size, wave_length, 3)\n",
    "    wave = wave.permute(1,0).unsqueeze(0).to(device)\n",
    "    wave = z_score_standardize(wave)\n",
    "    \n",
    "    # model inference, wave=(batch_size, wave_length, 3)\n",
    "    out = model(wave, -1, -1).squeeze()\n",
    "    \n",
    "    # if batch_size == 1\n",
    "    out = out.unsqueeze(0)\n",
    "    \n",
    "    # 將 output 套入 threshold 做 picking\n",
    "    res, pred_trigger = evaluation(out, threshold_prob, threshold_trigger, threshold_type)\n",
    "    \n",
    "    return res, pred_trigger"
   ]
  },
  {
   "cell_type": "markdown",
   "id": "78427bfe",
   "metadata": {},
   "source": [
    "### 測試區"
   ]
  },
  {
   "cell_type": "code",
   "execution_count": 66,
   "id": "28fa643f",
   "metadata": {},
   "outputs": [
    {
     "data": {
      "text/plain": [
       "<All keys matched successfully>"
      ]
     },
     "execution_count": 66,
     "metadata": {},
     "output_type": "execute_result"
    }
   ],
   "source": [
    "# load model\n",
    "device = 'cpu'\n",
    "model = SingleP_Conformer(8, 256, 4, 4, False, False).to(device)\n",
    "model_path = os.path.join(\"/mnt/nas4/weiwei/picking_p/results/conformer/\", 'model.pt')\n",
    "checkpoint = torch.load(model_path, map_location=device)\n",
    "model.load_state_dict(checkpoint['model'])"
   ]
  },
  {
   "cell_type": "code",
   "execution_count": 105,
   "id": "5c5c75f4",
   "metadata": {},
   "outputs": [],
   "source": [
    "# load waveform\n",
    "import glob\n",
    "import os\n",
    "path = glob.glob('/mnt/nas3/earthquake_dataset_large/Palert/*.pt')\n",
    "wave = torch.load(path[10])"
   ]
  },
  {
   "cell_type": "code",
   "execution_count": 108,
   "id": "bb121131",
   "metadata": {},
   "outputs": [
    {
     "data": {
      "text/plain": [
       "([True], [1637])"
      ]
     },
     "execution_count": 108,
     "metadata": {},
     "output_type": "execute_result"
    }
   ],
   "source": [
    "# start predicting\n",
    "out = predict(wave[:-1], model, device, 0.7, 15, 'continue')\n",
    "out"
   ]
  },
  {
   "cell_type": "code",
   "execution_count": null,
   "id": "281994e1",
   "metadata": {},
   "outputs": [],
   "source": []
  }
 ],
 "metadata": {
  "kernelspec": {
   "display_name": "earthquake",
   "language": "python",
   "name": "earthquake"
  },
  "language_info": {
   "codemirror_mode": {
    "name": "ipython",
    "version": 3
   },
   "file_extension": ".py",
   "mimetype": "text/x-python",
   "name": "python",
   "nbconvert_exporter": "python",
   "pygments_lexer": "ipython3",
   "version": "3.8.6"
  }
 },
 "nbformat": 4,
 "nbformat_minor": 5
}
