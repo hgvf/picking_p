{
 "cells": [
  {
   "cell_type": "code",
   "execution_count": 17,
   "id": "6442aa0e",
   "metadata": {},
   "outputs": [],
   "source": [
    "import numpy as np\n",
    "import pandas as pd\n",
    "import math\n",
    "import torch\n",
    "import matplotlib.pyplot as plt\n",
    "import scipy\n",
    "import seisbench.models as sbm\n",
    "\n",
    "from tqdm import tqdm\n",
    "from model import *\n",
    "from optimizer import *\n",
    "from utils import *"
   ]
  },
  {
   "cell_type": "code",
   "execution_count": 28,
   "id": "9b15b3de",
   "metadata": {},
   "outputs": [],
   "source": [
    "def evaluation(pred, threshold_prob, threshold_trigger, threshold_type):\n",
    "    # pred: 模型預測結果, (batch_size, wave_length)\n",
    "    \n",
    "    # 存每個測站是否 pick 到的結果 & pick 到的時間點\n",
    "    pred_isTrigger = []\n",
    "    pred_trigger_sample = []\n",
    "    \n",
    "    for i in range(pred.shape[0]):\n",
    "        isTrigger = False\n",
    "        \n",
    "        if threshold_type == 'single':\n",
    "            a = np.where(pred[i] >= threshold_prob, 1, 0)\n",
    "\n",
    "            if np.any(a):\n",
    "                c = np.where(a==1)\n",
    "                pred_isTrigger = True\n",
    "                pred_trigger = c[0][0]\n",
    "            else:\n",
    "                pred_trigger = 0\n",
    "                \n",
    "        elif threshold_type == 'avg':\n",
    "            a = pd.Series(pred[i])    \n",
    "            win_avg = a.rolling(window=threshold_trigger).mean().to_numpy()\n",
    "\n",
    "            c = np.where(win_avg >= threshold_prob, 1, 0)\n",
    "\n",
    "            pred_trigger = 0\n",
    "            if c.any():\n",
    "                tri = np.where(c==1)\n",
    "                pred_trigger = tri[0][0]-threshold_trigger+1\n",
    "                isTrigger = True\n",
    "\n",
    "        elif threshold_type == 'continue':\n",
    "            pred = np.where(pred[i] >= threshold_prob, 1, 0)\n",
    "           \n",
    "            a = pd.Series(pred)    \n",
    "            data = a.groupby(a.eq(0).cumsum()).cumsum().tolist()\n",
    "          \n",
    "            if threshold_trigger in data:\n",
    "                pred_trigger = data.index(threshold_trigger)-threshold_trigger+1\n",
    "                isTrigger = True\n",
    "            else:\n",
    "                pred_trigger = 0\n",
    "\n",
    "        pred_isTrigger.append(isTrigger)\n",
    "        pred_trigger_sample.append(pred_trigger)\n",
    "        \n",
    "    return pred_isTrigger, pred_trigger_sample"
   ]
  },
  {
   "cell_type": "code",
   "execution_count": 4,
   "id": "186a5838",
   "metadata": {},
   "outputs": [],
   "source": [
    "def z_score_standardize(data):\n",
    "    new_wave = torch.empty((data.shape))\n",
    "\n",
    "    new_wave = data - torch.mean(data, dim=1)[:, None, :]\n",
    "    new_wave /= torch.std(data, dim=1)[:, None, :]\n",
    "    \n",
    "    if torch.any(torch.isinf(new_wave)):\n",
    "        new_wave[torch.isinf(new_wave)] = 0\n",
    "\n",
    "    if torch.any(torch.isnan(new_wave)):\n",
    "        new_wave[torch.isnan(new_wave)] = 0\n",
    "        \n",
    "    return new_wave"
   ]
  },
  {
   "cell_type": "code",
   "execution_count": 12,
   "id": "7f646f28",
   "metadata": {},
   "outputs": [],
   "source": [
    "def filter(data):\n",
    "    # bandpass filter for eqtransformer\n",
    "    \n",
    "    filt_args = (5, [1,45], 'bandpass', False)\n",
    "    sos = scipy.signal.butter(*filt_args, output=\"sos\", fs=100)\n",
    "    x = scipy.signal.sosfilt(sos, data, axis=-1)\n",
    "    \n",
    "    return torch.FloatTensor(x)"
   ]
  },
  {
   "cell_type": "code",
   "execution_count": 48,
   "id": "342284ee",
   "metadata": {},
   "outputs": [],
   "source": [
    "def predict(wave, model, device, threshold_prob, threshold_trigger, threshold_type):\n",
    "    # zscore normalization, wave=(batch_size, wave_length, 3)\n",
    "    wave = wave.permute(1,0).unsqueeze(0).to(device)\n",
    "\n",
    "    wave = filter(wave)\n",
    "    wave = z_score_standardize(wave)\n",
    "\n",
    "    # model inference, wave=(batch_size, wave_length, 3)\n",
    "    out = model(wave.permute(0,2,1))[1].squeeze()\n",
    "    \n",
    "    out = out.unsqueeze(0)\n",
    "    \n",
    "    plt.subplot(211)\n",
    "    plt.plot(wave[0])\n",
    "    plt.subplot(212)\n",
    "    plt.plot(out[0].detach().numpy())\n",
    "    plt.show()\n",
    "    # 將 output 套入 threshold 做 picking\n",
    "    res, pred_trigger = evaluation(out, threshold_prob, threshold_trigger, threshold_type)\n",
    "    \n",
    "    return res, pred_trigger"
   ]
  },
  {
   "cell_type": "markdown",
   "id": "3461b804",
   "metadata": {},
   "source": [
    "### 預測區"
   ]
  },
  {
   "cell_type": "code",
   "execution_count": 53,
   "id": "3cffdf72",
   "metadata": {},
   "outputs": [],
   "source": [
    "# load model\n",
    "device = 'cpu'\n",
    "model_path = 'tmp'\n",
    "\n",
    "model = sbm.EQTransformer(in_samples=3000, classes=1, phases='P').to(device)\n",
    "checkpoint = torch.load(model_path, map_location=device)\n",
    "model.load_state_dict(checkpoint['model'])"
   ]
  },
  {
   "cell_type": "code",
   "execution_count": null,
   "id": "ec86b7e7",
   "metadata": {},
   "outputs": [],
   "source": [
    "# start predicting\n",
    "\n",
    "# wave: (batch, wave_length, channels)\n",
    "\n",
    "out = predict(wave, model, device, 0.65, 5, 'single')\n",
    "out"
   ]
  },
  {
   "cell_type": "markdown",
   "id": "ab20f458",
   "metadata": {},
   "source": [
    "### 測試區"
   ]
  },
  {
   "cell_type": "code",
   "execution_count": 50,
   "id": "e0c5a87e",
   "metadata": {},
   "outputs": [],
   "source": [
    "# load waveform\n",
    "import glob\n",
    "import os\n",
    "path = glob.glob('/mnt/nas3/earthquake_dataset_large/CWBSN/*.pt')\n",
    "wave = torch.load(path[10])"
   ]
  },
  {
   "cell_type": "code",
   "execution_count": 51,
   "id": "0aad3809",
   "metadata": {},
   "outputs": [
    {
     "name": "stdout",
     "output_type": "stream",
     "text": [
      "torch.Size([1, 3000, 3])\n"
     ]
    },
    {
     "data": {
      "image/png": "[encoded data removed]",
      "text/plain": [
       "<Figure size 432x288 with 2 Axes>"
      ]
     },
     "metadata": {
      "needs_background": "light"
     },
     "output_type": "display_data"
    },
    {
     "data": {
      "text/plain": [
       "([False], [0])"
      ]
     },
     "execution_count": 51,
     "metadata": {},
     "output_type": "execute_result"
    }
   ],
   "source": [
    "# start predicting\n",
    "out = predict(wave[:-1], model, device, 0.65, 5, 'single')\n",
    "out"
   ]
  },
  {
   "cell_type": "code",
   "execution_count": 31,
   "id": "9474bbf3",
   "metadata": {},
   "outputs": [
    {
     "data": {
      "text/plain": [
       "[<matplotlib.lines.Line2D at 0x7fee764a6280>,\n",
       " <matplotlib.lines.Line2D at 0x7fee7649b190>,\n",
       " <matplotlib.lines.Line2D at 0x7fee7649b040>]"
      ]
     },
     "execution_count": 31,
     "metadata": {},
     "output_type": "execute_result"
    },
    {
     "data": {
      "image/png": "[encoded data removed]",
      "text/plain": [
       "<Figure size 432x288 with 1 Axes>"
      ]
     },
     "metadata": {
      "needs_background": "light"
     },
     "output_type": "display_data"
    }
   ],
   "source": [
    "plt.plot(wave[:-1].T)"
   ]
  },
  {
   "cell_type": "code",
   "execution_count": null,
   "id": "8e92a5ea",
   "metadata": {},
   "outputs": [],
   "source": []
  }
 ],
 "metadata": {
  "kernelspec": {
   "display_name": "earthquake",
   "language": "python",
   "name": "earthquake"
  },
  "language_info": {
   "codemirror_mode": {
    "name": "ipython",
    "version": 3
   },
   "file_extension": ".py",
   "mimetype": "text/x-python",
   "name": "python",
   "nbconvert_exporter": "python",
   "pygments_lexer": "ipython3",
   "version": "3.8.6"
  }
 },
 "nbformat": 4,
 "nbformat_minor": 5
}
